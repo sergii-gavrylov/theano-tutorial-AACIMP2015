{
 "cells": [
  {
   "cell_type": "code",
   "execution_count": 8,
   "metadata": {
    "collapsed": false
   },
   "outputs": [
    {
     "name": "stdout",
     "output_type": "stream",
     "text": [
      "28.55\n"
     ]
    }
   ],
   "source": [
    "import numpy as np\n",
    "\n",
    "\n",
    "a = np.array([4.2, 19.84, 4.51])\n",
    "acc = 0\n",
    "for e in a:\n",
    "    acc += e\n",
    "print acc"
   ]
  },
  {
   "cell_type": "code",
   "execution_count": 7,
   "metadata": {
    "collapsed": false
   },
   "outputs": [
    {
     "name": "stdout",
     "output_type": "stream",
     "text": [
      "[ 28.55]\n"
     ]
    }
   ],
   "source": [
    "import theano\n",
    "import theano.tensor as T\n",
    "\n",
    "\n",
    "\n",
    "def step(e, acc):\n",
    "    return e + acc\n",
    "\n",
    "\n",
    "a = T.vector(\"a\")\n",
    "acc, _ = theano.scan(fn=step, sequences=a, outputs_info=T.zeros((1, )))\n",
    "\n",
    "\n",
    "accumulate = theano.function(inputs=[a], outputs=acc[-1])\n",
    "\n",
    "print accumulate(np.array([4.2, 19.84, 4.51]))"
   ]
  }
 ],
 "metadata": {
  "kernelspec": {
   "display_name": "Python 2",
   "language": "python",
   "name": "python2"
  },
  "language_info": {
   "codemirror_mode": {
    "name": "ipython",
    "version": 2
   },
   "file_extension": ".py",
   "mimetype": "text/x-python",
   "name": "python",
   "nbconvert_exporter": "python",
   "pygments_lexer": "ipython2",
   "version": "2.7.6"
  }
 },
 "nbformat": 4,
 "nbformat_minor": 0
}
