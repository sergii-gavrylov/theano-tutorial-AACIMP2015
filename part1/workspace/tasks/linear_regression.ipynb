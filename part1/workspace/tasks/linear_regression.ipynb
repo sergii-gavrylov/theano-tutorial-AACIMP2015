{
 "cells": [
  {
   "cell_type": "code",
   "execution_count": 4,
   "metadata": {
    "collapsed": false
   },
   "outputs": [],
   "source": [
    "import theano\n",
    "import numpy as np\n",
    "from theano import tensor as T\n",
    "\n",
    "trX = np.linspace(-1, 1, 101)\n",
    "trY = 2 * trX + np.random.randn(*trX.shape) * 0.2\n",
    "\n",
    "x = T.scalar()\n",
    "y = T.scalar()\n",
    "\n",
    "def model(x, w):\n",
    "    return x * w\n",
    "\n",
    "w = theano.shared(0.0)\n",
    "y_hat = model(x, w)\n",
    "\n",
    "cost = T.sqr(y_hat - y)\n",
    "gradient = T.grad(cost=cost, wrt=w)\n",
    "updates = [[w, w - gradient * 0.0005]]\n",
    "\n",
    "train = theano.function(inputs=[x, y], outputs=cost, updates=updates)\n",
    "\n",
    "w_trace = []\n",
    "for i in range(100):\n",
    "    w_trace.append(w.get_value())\n",
    "    for tr_x, tr_y in zip(trX, trY):\n",
    "        train(tr_x, tr_y)\n",
    "w_trace.append(w.get_value()) \n",
    "print w.get_value()"
   ]
  },
  {
   "cell_type": "code",
   "execution_count": 6,
   "metadata": {
    "collapsed": false
   },
   "outputs": [],
   "source": [
    "from IPython.display import HTML\n",
    "from tempfile import NamedTemporaryFile\n",
    "\n",
    "VIDEO_TAG = \"\"\"<video controls>\n",
    " <source src=\"data:video/x-m4v;base64,{0}\" type=\"video/mp4\">\n",
    " Your browser does not support the video tag.\n",
    "</video>\"\"\"\n",
    "\n",
    "\n",
    "def anim_to_html(anim):\n",
    "    if not hasattr(anim, '_encoded_video'):\n",
    "        with NamedTemporaryFile(suffix='.mp4') as f:\n",
    "            anim.save(f.name, fps=20, extra_args=['-vcodec', 'libx264'])\n",
    "            video = open(f.name, \"rb\").read()\n",
    "        anim._encoded_video = video.encode(\"base64\")\n",
    "    \n",
    "    return VIDEO_TAG.format(anim._encoded_video)\n",
    "\n",
    "def display_animation(anim):\n",
    "    plt.close(anim._fig)\n",
    "    return HTML(anim_to_html(anim))"
   ]
  },
  {
   "cell_type": "code",
   "execution_count": 7,
   "metadata": {
    "collapsed": false,
    "scrolled": true
   },
   "outputs": [],
   "source": [
    "import matplotlib\n",
    "matplotlib.use('Agg')\n",
    "import matplotlib.pyplot as plt\n",
    "from matplotlib import animation\n",
    "\n",
    "\n",
    "fig = plt.figure()\n",
    "ax = plt.axes(xlim=(-1.5, 1.5), ylim=(-3, 3))\n",
    "line, = ax.plot([], [], 'r', lw=2)\n",
    "data, = ax.plot(trX, trY, 'bo')\n",
    "\n",
    "def init():\n",
    "    line.set_data([], [])\n",
    "    return line, data\n",
    "\n",
    "def animate(i):\n",
    "    line.set_data(trX, w_trace[i] * trX)\n",
    "    ax.set_title('current slope %0.2f' % w_trace[i])\n",
    "    return line, ax\n",
    "\n",
    "anim = animation.FuncAnimation(fig, animate, init_func=init, frames=100)\n",
    "display_animation(anim)"
   ]
  }
 ],
 "metadata": {
  "kernelspec": {
   "display_name": "Python 2",
   "language": "python",
   "name": "python2"
  },
  "language_info": {
   "codemirror_mode": {
    "name": "ipython",
    "version": 2
   },
   "file_extension": ".py",
   "mimetype": "text/x-python",
   "name": "python",
   "nbconvert_exporter": "python",
   "pygments_lexer": "ipython2",
   "version": "2.7.6"
  }
 },
 "nbformat": 4,
 "nbformat_minor": 0
}
