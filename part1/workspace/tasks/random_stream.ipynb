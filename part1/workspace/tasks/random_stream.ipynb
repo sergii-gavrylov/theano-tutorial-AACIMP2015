{
 "cells": [
  {
   "cell_type": "code",
   "execution_count": null,
   "metadata": {
    "collapsed": true
   },
   "outputs": [],
   "source": [
    "from theano import function\n",
    "raise NotImplementedError(\"TODO: add any other imports you need\")\n",
    "\n",
    "\n",
    "def make_matrix():\n",
    "    \"\"\"\n",
    "    Returns a new Theano matrix.\n",
    "    \"\"\"\n",
    "\n",
    "    raise NotImplementedError(\"TODO: implement this function.\")\n",
    "\n",
    "\n",
    "def get_shared_random_sream():\n",
    "    \"\"\"\n",
    "    Returns shared random stream.\n",
    "    \"\"\"\n",
    "\n",
    "    raise NotImplementedError(\"TODO: implement this function.\")\n",
    "\n",
    "def get_masked_variable(x, r_stream, p):\n",
    "    \"\"\"\n",
    "    Returns symbolic variable each element of which contains x entry or zero with `p` probability.\n",
    "    \"\"\"\n",
    "\n",
    "    raise NotImplementedError(\"TODO: implement this function.\")\n",
    "\n",
    "\n",
    "if __name__ == \"__main__\":\n",
    "    x = make_matrix()\n",
    "    r_stream = get_shared_random_sream()\n",
    "    masked_x = get_masked_variable(x, r_stream, 0.5)\n",
    "    \n",
    "    f = function([x], masked_x)\n",
    "\n",
    "    print f([[1.0, 2.0], [3.0, 4.0]])\n",
    "    print \"SUCCESS!\""
   ]
  }
 ],
 "metadata": {
  "kernelspec": {
   "display_name": "Python 2",
   "language": "python",
   "name": "python2"
  },
  "language_info": {
   "codemirror_mode": {
    "name": "ipython",
    "version": 2
   },
   "file_extension": ".py",
   "mimetype": "text/x-python",
   "name": "python",
   "nbconvert_exporter": "python",
   "pygments_lexer": "ipython2",
   "version": "2.7.6"
  }
 },
 "nbformat": 4,
 "nbformat_minor": 0
}
