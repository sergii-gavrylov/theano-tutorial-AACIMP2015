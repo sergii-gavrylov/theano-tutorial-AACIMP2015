{
 "cells": [
  {
   "cell_type": "code",
   "execution_count": null,
   "metadata": {
    "collapsed": true
   },
   "outputs": [],
   "source": [
    "# Fill in the TODOs in this exercise, then run the code to see if your solution works!\n",
    "\n",
    "import numpy as np\n",
    "from theano import function\n",
    "raise NotImplementedError(\"TODO: add any other imports you need\")\n",
    "\n",
    "\n",
    "def make_float32_scalar():\n",
    "    \"\"\"\n",
    "    Returns a new float32 symbolic scalar.\n",
    "    \"\"\"\n",
    "    raise NotImplementedError(\"TODO: implement the function\")\n",
    "    \n",
    "\n",
    "def make_float32_shared_vector():\n",
    "    \"\"\"\n",
    "    Returns a theano shared float32 vector variable that \n",
    "    will be used as the data storage.\n",
    "    You can initialise to any value you want.\n",
    "    \"\"\"\n",
    "    raise NotImplementedError(\"TODO: implement the function\")\n",
    "    \n",
    "    \n",
    "def make_int32_scalar():\n",
    "    \"\"\"\n",
    "    Returns a new int32 symbolic scalar that will be used\n",
    "    as the index of datum.\n",
    "    \"\"\"\n",
    "    raise NotImplementedError(\"TODO: implement the function\")\n",
    "    \n",
    "\n",
    "if __name__ == \"__main__\":\n",
    "    x = make_float32_scalar()\n",
    "    y = make_float32_scalar()    \n",
    "    data = make_float32_shared_vector()\n",
    "    assert data.get_value().dtype == np.float32\n",
    "    \n",
    "    i = make_int32_scalar()\n",
    "    z = x + y\n",
    "        \n",
    "    raise NotImplementedError(\"TODO: compile function that returns z by substituting x by data[i]\")\n",
    "    \n",
    "    print f(0, 2.0)\n",
    "    print \"SUCCESS!\""
   ]
  }
 ],
 "metadata": {
  "kernelspec": {
   "display_name": "Python 2",
   "language": "python",
   "name": "python2"
  },
  "language_info": {
   "codemirror_mode": {
    "name": "ipython",
    "version": 2
   },
   "file_extension": ".py",
   "mimetype": "text/x-python",
   "name": "python",
   "nbconvert_exporter": "python",
   "pygments_lexer": "ipython2",
   "version": "2.7.6"
  }
 },
 "nbformat": 4,
 "nbformat_minor": 0
}
